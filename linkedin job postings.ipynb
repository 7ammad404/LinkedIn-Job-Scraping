{
 "cells": [
  {
   "cell_type": "code",
   "execution_count": 114,
   "metadata": {},
   "outputs": [],
   "source": [
    "# Importing necessary libraries\n",
    "import requests\n",
    "from bs4 import BeautifulSoup\n",
    "import random\n",
    "import pandas as pd\n"
   ]
  },
  {
   "cell_type": "markdown",
   "metadata": {},
   "source": [
    "### Imported the necessary libraries for scraping LinkedIn job postings.\n",
    "### - `requests` for making HTTP requests to fetch web pages.\n",
    "### - `BeautifulSoup` for parsing HTML content.\n",
    "### - `random` for generating random values, which can be useful for user-agent rotation.\n",
    "### - `pandas` for handling and manipulating the scraped data."
   ]
  },
  {
   "cell_type": "code",
   "execution_count": 115,
   "metadata": {},
   "outputs": [],
   "source": [
    "# Prompt the user to enter the job title and location they are searching for\n",
    "desired_job_title = input(\"Enter the job title you are searching for: \")\n",
    "desired_location = input(\"Enter the location you are looking in: \")"
   ]
  },
  {
   "cell_type": "code",
   "execution_count": 116,
   "metadata": {},
   "outputs": [],
   "source": [
    "# Define the starting point for pagination\n",
    "pagination_start = 0\n"
   ]
  },
  {
   "cell_type": "code",
   "execution_count": 117,
   "metadata": {},
   "outputs": [],
   "source": [
    "# Construct the URL for LinkedIn job search based on the desired job title, location, and pagination start point\n",
    "job_search_url = f\"https://www.linkedin.com/jobs-guest/jobs/api/seeMoreJobPostings/search?keywords={desired_job_title}&location={desired_location}&start={pagination_start}\"\n",
    "response = requests.get(job_search_url)"
   ]
  },
  {
   "cell_type": "code",
   "execution_count": 118,
   "metadata": {},
   "outputs": [
    {
     "data": {
      "text/plain": [
       "<Response [200]>"
      ]
     },
     "execution_count": 118,
     "metadata": {},
     "output_type": "execute_result"
    }
   ],
   "source": [
    "response"
   ]
  },
  {
   "cell_type": "code",
   "execution_count": 119,
   "metadata": {},
   "outputs": [
    {
     "data": {
      "text/plain": [
       "'<!DOCTYPE html>\\n\\n      <li>\\n        \\n    \\n\\n    \\n    \\n    \\n      <div class=\"base-card relative w-full hover:no-underline focus:no-underline base-card--link base-search-card base-search-card--link job-search-card\" data-entity-urn=\"urn:li:jobPosting:3912829462\" data-impression-id=\"jobs-search-result-0\" data-reference-id=\"F/ypxWWcHJY/FJUNyegRAw==\" data-tracking-id=\"NmW/Mx7lUDfsMWCdS+fXig==\" data-column=\"1\" data-row=\"1\">\\n        \\n\\n        <a class=\"base-card__full-link absolute top-0 right-0 bottom-0 left-0 p-0 z-[2]\" href=\"https://eg.linkedin.com/jobs/view/junior-frontend-developer-at-vodafone-3912829462?position=1&amp;pageNum=0&amp;refId=F%2FypxWWcHJY%2FFJUNyegRAw%3D%3D&amp;trackingId=NmW%2FMx7lUDfsMWCdS%2BfXig%3D%3D&amp;trk=public_jobs_jserp-result_search-card\" data-tracking-control-name=\"public_jobs_jserp-result_search-card\" data-tracking-client-ingraph data-tracking-will-navigate>\\n          \\n          <span class=\"sr-only\">\\n              \\n        \\n        Junior Frontend Developer\\n      \\n      \\n          </span>\\n        </a>\\n\\n      \\n        \\n    <div class=\"search-entity-media\">\\n        \\n      <img class=\"artdeco-entity-image artdeco-entity-image--square-4\\n          \" data-delayed-url=\"https://media.licdn.com/dms/image/C560BAQGAjVTnzEmlYQ/company-logo_100_100/0/1630668724567/vodafone_logo?e=2147483647&amp;v=beta&amp;t=ut4CJEclmXv7xOIiLBgqNzTgmyQTeAlMMR0KBszUkk0\" data-ghost-classes=\"artdeco-entity-image--ghost\" data-ghost-url=\"https://static.licdn.com/aero-v1/sc/h/9a9u41thxt325ucfh5z8ga4m8\" alt>\\n  \\n    </div>\\n  \\n\\n        <div class=\"base-search-card__info\">\\n          <h3 class=\"base-search-card__title\">\\n            \\n        Junior Frontend Developer\\n      \\n          </h3>\\n\\n            <h4 class=\"base-search-card__subtitle\">\\n              \\n          <a class=\"hidden-nested-link\" data-tracking-client-ingraph data-tracking-control-name=\"public_jobs_jserp-result_job-search-card-subtitle\" data-tracking-will-navigate href=\"https://uk.linkedin.com/company/vodafone?trk=public_jobs_jserp-result_job-search-card-subtitle\">\\n            Vodafone\\n          </a>\\n      \\n            </h4>\\n\\n<!---->\\n            <div class=\"base-search-card__metadata\">\\n              \\n          <span class=\"job-search-card__location\">\\n            Cairo, Cairo, Egypt\\n          </span>\\n\\n        \\n    \\n    \\n    \\n    \\n\\n      <div class=\"job-posting-benefits text-sm\">\\n        <icon class=\"job-posting-benefits__icon\" data-delayed-url=\"https://static.licdn.com/aero-v1/sc/h/3p1v0uhy7uq0cm5zdvzp4eo18\" data-svg-class-name=\"job-posting-benefits__icon-svg\"></icon>\\n        <span class=\"job-posting-benefits__text\">\\n          Actively Hiring\\n<!---->        </span>\\n      </div>\\n  \\n\\n          <time class=\"job-search-card__listdate\" datetime=\"2024-04-30\">\\n            \\n\\n    \\n    \\n    \\n    \\n    \\n    \\n    \\n    \\n    \\n    \\n    \\n    \\n    \\n    \\n    \\n    \\n\\n    \\n    \\n    \\n    \\n    \\n    \\n    \\n    \\n    \\n    \\n    \\n    \\n    \\n    \\n\\n      1 week ago\\n  \\n          </time>\\n\\n<!---->      \\n            </div>\\n        </div>\\n<!---->      \\n    \\n      </div>\\n  \\n  \\n  \\n  \\n      </li>\\n      <li>\\n        \\n    \\n\\n    \\n    \\n    \\n      <div class=\"base-card relative w-full hover:no-underline focus:no-underline base-card--link base-search-card base-search-card--link job-search-card\" data-entity-urn=\"urn:li:jobPosting:3891685472\" data-impression-id=\"jobs-search-result-1\" data-reference-id=\"F/ypxWWcHJY/FJUNyegRAw==\" data-tracking-id=\"XaFvsybUel57gu5A/E4ugA==\" data-column=\"1\" data-row=\"2\">\\n        \\n\\n        <a class=\"base-card__full-link absolute top-0 right-0 bottom-0 left-0 p-0 z-[2]\" href=\"https://eg.linkedin.com/jobs/view/front-end-developer-at-sarmad-3891685472?position=2&amp;pageNum=0&amp;refId=F%2FypxWWcHJY%2FFJUNyegRAw%3D%3D&amp;trackingId=XaFvsybUel57gu5A%2FE4ugA%3D%3D&amp;trk=public_jobs_jserp-result_search-card\" data-tracking-control-name=\"public_jobs_jserp-result_search-card\" data-tracking-client-ingraph data-tracking-will-navigate>\\n          \\n          <span class=\"sr-only\">\\n              \\n        \\n        Front-end Developer\\n      \\n      \\n          </span>\\n        </a>\\n\\n      \\n        \\n    <div class=\"search-entity-media\">\\n        \\n      <img class=\"artdeco-entity-image artdeco-entity-image--square-4\\n          \" data-delayed-url=\"https://media.licdn.com/dms/image/D4D0BAQEEfGnqBoZ0UQ/company-logo_100_100/0/1684251855857?e=2147483647&amp;v=beta&amp;t=1SfNryBptpUGyW2fIAHKgfBwltTfPnagZZzv9Gk_dw8\" data-ghost-classes=\"artdeco-entity-image--ghost\" data-ghost-url=\"https://static.licdn.com/aero-v1/sc/h/9a9u41thxt325ucfh5z8ga4m8\" alt>\\n  \\n    </div>\\n  \\n\\n        <div class=\"base-search-card__info\">\\n          <h3 class=\"base-search-card__title\">\\n            \\n        Front-end Developer\\n      \\n          </h3>\\n\\n            <h4 class=\"base-search-card__subtitle\">\\n              \\n          <a class=\"hidden-nested-link\" data-tracking-client-ingraph data-tracking-control-name=\"public_jobs_jserp-result_job-search-card-subtitle\" data-tracking-will-navigate href=\"https://sa.linkedin.com/company/sarmad-sa?trk=public_jobs_jserp-result_job-search-card-subtitle\">\\n            Sarmad\\n          </a>\\n      \\n            </h4>\\n\\n<!---->\\n            <div class=\"base-search-card__metadata\">\\n              \\n          <span class=\"job-search-card__location\">\\n            Cairo, Cairo, Egypt\\n          </span>\\n\\n        \\n    \\n    \\n    \\n    \\n\\n<!---->  \\n\\n          <time class=\"job-search-card__listdate\" datetime=\"2024-04-08\">\\n            \\n\\n    \\n    \\n    \\n    \\n    \\n    \\n    \\n    \\n    \\n    \\n    \\n    \\n    \\n    \\n    \\n    \\n\\n    \\n    \\n    \\n    \\n    \\n    \\n    \\n    \\n    \\n    \\n    \\n    \\n    \\n    \\n\\n      4 weeks ago\\n  \\n          </time>\\n\\n<!---->      \\n            </div>\\n        </div>\\n<!---->      \\n    \\n      </div>\\n  \\n  \\n  \\n  \\n      </li>\\n      <li>\\n        \\n    \\n\\n    \\n    \\n    \\n      <div class=\"base-card relative w-full hover:no-underline focus:no-underline base-card--link base-search-card base-search-card--link job-search-card\" data-entity-urn=\"urn:li:jobPosting:3879059525\" data-impression-id=\"jobs-search-result-2\" data-reference-id=\"F/ypxWWcHJY/FJUNyegRAw==\" data-tracking-id=\"923r1uLBe0AsR0rGk27csw==\" data-column=\"1\" data-row=\"3\">\\n        \\n\\n        <a class=\"base-card__full-link absolute top-0 right-0 bottom-0 left-0 p-0 z-[2]\" href=\"https://eg.linkedin.com/jobs/view/frontend-developer-jeddah-at-lucidya-%D9%84%D9%88%D8%B3%D9%8A%D8%AF%D9%8A%D8%A7-3879059525?position=3&amp;pageNum=0&amp;refId=F%2FypxWWcHJY%2FFJUNyegRAw%3D%3D&amp;trackingId=923r1uLBe0AsR0rGk27csw%3D%3D&amp;trk=public_jobs_jserp-result_search-card\" data-tracking-control-name=\"public_jobs_jserp-result_search-card\" data-tracking-client-ingraph data-tracking-will-navigate>\\n          \\n          <span class=\"sr-only\">\\n              \\n        \\n        Frontend Developer - Jeddah\\n      \\n      \\n          </span>\\n        </a>\\n\\n      \\n        \\n    <div class=\"search-entity-media\">\\n        \\n      <img class=\"artdeco-entity-image artdeco-entity-image--square-4\\n          \" data-delayed-url=\"https://media.licdn.com/dms/image/C4D0BAQEs0cc4sYTl8Q/company-logo_100_100/0/1675282075186?e=2147483647&amp;v=beta&amp;t=Ef5Z-ht2460AwergIQQuQ3jizMHFJhaagMLtG21UPJY\" data-ghost-classes=\"artdeco-entity-image--ghost\" data-ghost-url=\"https://static.licdn.com/aero-v1/sc/h/9a9u41thxt325ucfh5z8ga4m8\" alt>\\n  \\n    </div>\\n  \\n\\n        <div class=\"base-search-card__info\">\\n          <h3 class=\"base-search-card__title\">\\n            \\n        Frontend Developer - Jeddah\\n      \\n          </h3>\\n\\n            <h4 class=\"base-search-card__subtitle\">\\n              \\n          <a class=\"hidden-nested-link\" data-tracking-client-ingraph data-tracking-control-name=\"public_jobs_jserp-result_job-search-card-subtitle\" data-tracking-will-navigate href=\"https://sa.linkedin.com/company/lucidya?trk=public_jobs_jserp-result_job-search-card-subtitle\">\\n            Lucidya | لوسيديا\\n          </a>\\n      \\n            </h4>\\n\\n<!---->\\n            <div class=\"base-search-card__metadata\">\\n              \\n          <span class=\"job-search-card__location\">\\n            Cairo, Cairo, Egypt\\n          </span>\\n\\n        \\n    \\n    \\n    \\n    \\n\\n<!---->  \\n\\n          <time class=\"job-search-card__listdate\" datetime=\"2024-04-18\">\\n            \\n\\n    \\n    \\n    \\n    \\n    \\n    \\n    \\n    \\n    \\n    \\n    \\n    \\n    \\n    \\n    \\n    \\n\\n    \\n    \\n    \\n    \\n    \\n    \\n    \\n    \\n    \\n    \\n    \\n    \\n    \\n    \\n\\n      2 weeks ago\\n  \\n          </time>\\n\\n<!---->      \\n            </div>\\n        </div>\\n<!---->      \\n    \\n      </div>\\n  \\n  \\n  \\n  \\n      </li>\\n      <li>\\n        \\n    \\n\\n    \\n    \\n    \\n      <div class=\"base-card relative w-full hover:no-underline focus:no-underline base-card--link base-search-card base-search-card--link job-search-card\" data-entity-urn=\"urn:li:jobPosting:3888118287\" data-impression-id=\"jobs-search-result-3\" data-reference-id=\"F/ypxWWcHJY/FJUNyegRAw==\" data-tracking-id=\"nfYgmfFZ5olTayUTJ17IDg==\" data-column=\"1\" data-row=\"4\">\\n        \\n\\n        <a class=\"base-card__full-link absolute top-0 right-0 bottom-0 left-0 p-0 z-[2]\" href=\"https://eg.linkedin.com/jobs/view/frontend-developer-remotely-at-lucidya-%D9%84%D9%88%D8%B3%D9%8A%D8%AF%D9%8A%D8%A7-3888118287?position=4&amp;pageNum=0&amp;refId=F%2FypxWWcHJY%2FFJUNyegRAw%3D%3D&amp;trackingId=nfYgmfFZ5olTayUTJ17IDg%3D%3D&amp;trk=public_jobs_jserp-result_search-card\" data-tracking-control-name=\"public_jobs_jserp-result_search-card\" data-tracking-client-ingraph data-tracking-will-navigate>\\n          \\n          <span class=\"sr-only\">\\n              \\n        \\n        Frontend Developer - Remotely\\n      \\n      \\n          </span>\\n        </a>\\n\\n      \\n        \\n    <div class=\"search-entity-media\">\\n        \\n      <img class=\"artdeco-entity-image artdeco-entity-image--square-4\\n          \" data-delayed-url=\"https://media.licdn.com/dms/image/C4D0BAQEs0cc4sYTl8Q/company-logo_100_100/0/1675282075186?e=2147483647&amp;v=beta&amp;t=Ef5Z-ht2460AwergIQQuQ3jizMHFJhaagMLtG21UPJY\" data-ghost-classes=\"artdeco-entity-image--ghost\" data-ghost-url=\"https://static.licdn.com/aero-v1/sc/h/9a9u41thxt325ucfh5z8ga4m8\" alt>\\n  \\n    </div>\\n  \\n\\n        <div class=\"base-search-card__info\">\\n          <h3 class=\"base-search-card__title\">\\n            \\n        Frontend Developer - Remotely\\n      \\n          </h3>\\n\\n            <h4 class=\"base-search-card__subtitle\">\\n              \\n          <a class=\"hidden-nested-link\" data-tracking-client-ingraph data-tracking-control-name=\"public_jobs_jserp-result_job-search-card-subtitle\" data-tracking-will-navigate href=\"https://sa.linkedin.com/company/lucidya?trk=public_jobs_jserp-result_job-search-card-subtitle\">\\n            Lucidya | لوسيديا\\n          </a>\\n      \\n            </h4>\\n\\n<!---->\\n            <div class=\"base-search-card__metadata\">\\n              \\n          <span class=\"job-search-card__location\">\\n            Cairo, Cairo, Egypt\\n          </span>\\n\\n        \\n    \\n    \\n    \\n    \\n\\n<!---->  \\n\\n          <time class=\"job-search-card__listdate\" datetime=\"2024-04-18\">\\n            \\n\\n    \\n    \\n    \\n    \\n    \\n    \\n    \\n    \\n    \\n    \\n    \\n    \\n    \\n    \\n    \\n    \\n\\n    \\n    \\n    \\n    \\n    \\n    \\n    \\n    \\n    \\n    \\n    \\n    \\n    \\n    \\n\\n      2 weeks ago\\n  \\n          </time>\\n\\n<!---->      \\n            </div>\\n        </div>\\n<!---->      \\n    \\n      </div>\\n  \\n  \\n  \\n  \\n      </li>\\n      <li>\\n        \\n    \\n\\n    \\n    \\n    \\n      <div class=\"base-card relative w-full hover:no-underline focus:no-underline base-card--link base-search-card base-search-card--link job-search-card\" data-entity-urn=\"urn:li:jobPosting:3849934900\" data-impression-id=\"jobs-search-result-4\" data-reference-id=\"F/ypxWWcHJY/FJUNyegRAw==\" data-tracking-id=\"NZUvb8rDk+Wepbmfh1TNmQ==\" data-column=\"1\" data-row=\"5\">\\n        \\n\\n        <a class=\"base-card__full-link absolute top-0 right-0 bottom-0 left-0 p-0 z-[2]\" href=\"https://eg.linkedin.com/jobs/view/frontend-engineer-at-bosta-3849934900?position=5&amp;pageNum=0&amp;refId=F%2FypxWWcHJY%2FFJUNyegRAw%3D%3D&amp;trackingId=NZUvb8rDk%2BWepbmfh1TNmQ%3D%3D&amp;trk=public_jobs_jserp-result_search-card\" data-tracking-control-name=\"public_jobs_jserp-result_search-card\" data-tracking-client-ingraph data-tracking-will-navigate>\\n          \\n          <span class=\"sr-only\">\\n              \\n        \\n        Frontend Engineer\\n      \\n      \\n          </span>\\n        </a>\\n\\n      \\n        \\n    <div class=\"search-entity-media\">\\n        \\n      <img class=\"artdeco-entity-image artdeco-entity-image--square-4\\n          \" data-delayed-url=\"https://media.licdn.com/dms/image/C4D0BAQFlMZfv36hidA/company-logo_100_100/0/1636474832364/bostaapp_logo?e=2147483647&amp;v=beta&amp;t=i9VEGsGI3SNlYuPPaR464J7l560arFokToeZy1Q2cKc\" data-ghost-classes=\"artdeco-entity-image--ghost\" data-ghost-url=\"https://static.licdn.com/aero-v1/sc/h/9a9u41thxt325ucfh5z8ga4m8\" alt>\\n  \\n    </div>\\n  \\n\\n        <div class=\"base-search-card__info\">\\n          <h3 class=\"base-search-card__title\">\\n            \\n        Frontend Engineer\\n      \\n          </h3>\\n\\n            <h4 class=\"base-search-card__subtitle\">\\n              \\n          <a class=\"hidden-nested-link\" data-tracking-client-ingraph data-tracking-control-name=\"public_jobs_jserp-result_job-search-card-subtitle\" data-tracking-will-navigate href=\"https://eg.linkedin.com/company/bostaapp?trk=public_jobs_jserp-result_job-search-card-subtitle\">\\n            Bosta\\n          </a>\\n      \\n            </h4>\\n\\n<!---->\\n            <div class=\"base-search-card__metadata\">\\n              \\n          <span class=\"job-search-card__location\">\\n            Cairo, Cairo, Egypt\\n          </span>\\n\\n        \\n    \\n    \\n    \\n    \\n\\n      <div class=\"job-posting-benefits text-sm\">\\n        <icon class=\"job-posting-benefits__icon\" data-delayed-url=\"https://static.licdn.com/aero-v1/sc/h/3p1v0uhy7uq0cm5zdvzp4eo18\" data-svg-class-name=\"job-posting-benefits__icon-svg\"></icon>\\n        <span class=\"job-posting-benefits__text\">\\n          Actively Hiring\\n<!---->        </span>\\n      </div>\\n  \\n\\n          <time class=\"job-search-card__listdate\" datetime=\"2024-03-12\">\\n            \\n\\n    \\n    \\n    \\n    \\n    \\n    \\n    \\n    \\n    \\n    \\n    \\n    \\n    \\n    \\n    \\n    \\n\\n    \\n    \\n    \\n    \\n    \\n    \\n    \\n    \\n    \\n    \\n    \\n    \\n    \\n    \\n\\n      1 month ago\\n  \\n          </time>\\n\\n<!---->      \\n            </div>\\n        </div>\\n<!---->      \\n    \\n      </div>\\n  \\n  \\n  \\n  \\n      </li>\\n      <li>\\n        \\n    \\n\\n    \\n    \\n    \\n      <div class=\"base-card relative w-full hover:no-underline focus:no-underline base-card--link base-search-card base-search-card--link job-search-card\" data-entity-urn=\"urn:li:jobPosting:3907380177\" data-impression-id=\"jobs-search-result-5\" data-reference-id=\"F/ypxWWcHJY/FJUNyegRAw==\" data-tracking-id=\"FTkpA2jn9eljAkfZf+Z+hg==\" data-column=\"1\" data-row=\"6\">\\n        \\n\\n        <a class=\"base-card__full-link absolute top-0 right-0 bottom-0 left-0 p-0 z-[2]\" href=\"https://eg.linkedin.com/jobs/view/front-end-web-developer-at-fabulous-3907380177?position=6&amp;pageNum=0&amp;refId=F%2FypxWWcHJY%2FFJUNyegRAw%3D%3D&amp;trackingId=FTkpA2jn9eljAkfZf%2BZ%2Bhg%3D%3D&amp;trk=public_jobs_jserp-result_search-card\" data-tracking-control-name=\"public_jobs_jserp-result_search-card\" data-tracking-client-ingraph data-tracking-will-navigate>\\n          \\n          <span class=\"sr-only\">\\n              \\n        \\n        Front-End Web Developer\\n      \\n      \\n          </span>\\n        </a>\\n\\n      \\n        \\n    <div class=\"search-entity-media\">\\n        \\n      <img class=\"artdeco-entity-image artdeco-entity-image--square-4\\n          \" data-delayed-url=\"https://media.licdn.com/dms/image/C560BAQFq8-I7ABOJLw/company-logo_100_100/0/1630580313994/the_fabulous_co__logo?e=2147483647&amp;v=beta&amp;t=rhqZ0hQrQ44jD1_QEMFAE6CPgAggRuJVp2Pd-zSZ79M\" data-ghost-classes=\"artdeco-entity-image--ghost\" data-ghost-url=\"https://static.licdn.com/aero-v1/sc/h/9a9u41thxt325ucfh5z8ga4m8\" alt>\\n  \\n    </div>\\n  \\n\\n        <div class=\"base-search-card__info\">\\n          <h3 class=\"base-search-card__title\">\\n            \\n        Front-End Web Developer\\n      \\n          </h3>\\n\\n            <h4 class=\"base-search-card__subtitle\">\\n              \\n          <a class=\"hidden-nested-link\" data-tracking-client-ingraph data-tracking-control-name=\"public_jobs_jserp-result_job-search-card-subtitle\" data-tracking-will-navigate href=\"https://fr.linkedin.com/company/fabulous-app?trk=public_jobs_jserp-result_job-search-card-subtitle\">\\n            Fabulous\\n          </a>\\n      \\n            </h4>\\n\\n<!---->\\n            <div class=\"base-search-card__metadata\">\\n              \\n          <span class=\"job-search-card__location\">\\n            Egypt\\n          </span>\\n\\n        \\n    \\n    \\n    \\n    \\n\\n<!---->  \\n\\n          <time class=\"job-search-card__listdate\" datetime=\"2024-03-29\">\\n            \\n\\n    \\n    \\n    \\n    \\n    \\n    \\n    \\n    \\n    \\n    \\n    \\n    \\n    \\n    \\n    \\n    \\n\\n    \\n    \\n    \\n    \\n    \\n    \\n    \\n    \\n    \\n    \\n    \\n    \\n    \\n    \\n\\n      1 month ago\\n  \\n          </time>\\n\\n<!---->      \\n            </div>\\n        </div>\\n<!---->      \\n    \\n      </div>\\n  \\n  \\n  \\n  \\n      </li>\\n      <li>\\n        \\n    \\n\\n    \\n    \\n    \\n      <div class=\"base-card relative w-full hover:no-underline focus:no-underline base-card--link base-search-card base-search-card--link job-search-card\" data-entity-urn=\"urn:li:jobPosting:3834812789\" data-impression-id=\"jobs-search-result-6\" data-reference-id=\"F/ypxWWcHJY/FJUNyegRAw==\" data-tracking-id=\"I8eFtSN2jJnCXvBS3FAkVw==\" data-column=\"1\" data-row=\"7\">\\n        \\n\\n        <a class=\"base-card__full-link absolute top-0 right-0 bottom-0 left-0 p-0 z-[2]\" href=\"https://eg.linkedin.com/jobs/view/junior-fresh-graduate-sw-support-engineer-at-bosta-3834812789?position=7&amp;pageNum=0&amp;refId=F%2FypxWWcHJY%2FFJUNyegRAw%3D%3D&amp;trackingId=I8eFtSN2jJnCXvBS3FAkVw%3D%3D&amp;trk=public_jobs_jserp-result_search-card\" data-tracking-control-name=\"public_jobs_jserp-result_search-card\" data-tracking-client-ingraph data-tracking-will-navigate>\\n          \\n          <span class=\"sr-only\">\\n              \\n        \\n        Junior/Fresh-graduate SW Support Engineer\\n      \\n      \\n          </span>\\n        </a>\\n\\n      \\n        \\n    <div class=\"search-entity-media\">\\n        \\n      <img class=\"artdeco-entity-image artdeco-entity-image--square-4\\n          \" data-delayed-url=\"https://media.licdn.com/dms/image/C4D0BAQFlMZfv36hidA/company-logo_100_100/0/1636474832364/bostaapp_logo?e=2147483647&amp;v=beta&amp;t=i9VEGsGI3SNlYuPPaR464J7l560arFokToeZy1Q2cKc\" data-ghost-classes=\"artdeco-entity-image--ghost\" data-ghost-url=\"https://static.licdn.com/aero-v1/sc/h/9a9u41thxt325ucfh5z8ga4m8\" alt>\\n  \\n    </div>\\n  \\n\\n        <div class=\"base-search-card__info\">\\n          <h3 class=\"base-search-card__title\">\\n            \\n        Junior/Fresh-graduate SW Support Engineer\\n      \\n          </h3>\\n\\n            <h4 class=\"base-search-card__subtitle\">\\n              \\n          <a class=\"hidden-nested-link\" data-tracking-client-ingraph data-tracking-control-name=\"public_jobs_jserp-result_job-search-card-subtitle\" data-tracking-will-navigate href=\"https://eg.linkedin.com/company/bostaapp?trk=public_jobs_jserp-result_job-search-card-subtitle\">\\n            Bosta\\n          </a>\\n      \\n            </h4>\\n\\n<!---->\\n            <div class=\"base-search-card__metadata\">\\n              \\n          <span class=\"job-search-card__location\">\\n            Cairo, Cairo, Egypt\\n          </span>\\n\\n        \\n    \\n    \\n    \\n    \\n\\n      <div class=\"job-posting-benefits text-sm\">\\n        <icon class=\"job-posting-benefits__icon\" data-delayed-url=\"https://static.licdn.com/aero-v1/sc/h/3p1v0uhy7uq0cm5zdvzp4eo18\" data-svg-class-name=\"job-posting-benefits__icon-svg\"></icon>\\n        <span class=\"job-posting-benefits__text\">\\n          Actively Hiring\\n<!---->        </span>\\n      </div>\\n  \\n\\n          <time class=\"job-search-card__listdate\" datetime=\"2024-02-25\">\\n            \\n\\n    \\n    \\n    \\n    \\n    \\n    \\n    \\n    \\n    \\n    \\n    \\n    \\n    \\n    \\n    \\n    \\n\\n    \\n    \\n    \\n    \\n    \\n    \\n    \\n    \\n    \\n    \\n    \\n    \\n    \\n    \\n\\n      2 months ago\\n  \\n          </time>\\n\\n<!---->      \\n            </div>\\n        </div>\\n<!---->      \\n    \\n      </div>\\n  \\n  \\n  \\n  \\n      </li>\\n      <li>\\n        \\n    \\n\\n    \\n    \\n    \\n      <div class=\"base-card relative w-full hover:no-underline focus:no-underline base-card--link base-search-card base-search-card--link job-search-card\" data-entity-urn=\"urn:li:jobPosting:3917125987\" data-impression-id=\"jobs-search-result-7\" data-reference-id=\"F/ypxWWcHJY/FJUNyegRAw==\" data-tracking-id=\"QMtb/7d/6EmF6HskmKx51w==\" data-column=\"1\" data-row=\"8\">\\n        \\n\\n        <a class=\"base-card__full-link absolute top-0 right-0 bottom-0 left-0 p-0 z-[2]\" href=\"https://eg.linkedin.com/jobs/view/frontend-engineer-at-cabrio-3917125987?position=8&amp;pageNum=0&amp;refId=F%2FypxWWcHJY%2FFJUNyegRAw%3D%3D&amp;trackingId=QMtb%2F7d%2F6EmF6HskmKx51w%3D%3D&amp;trk=public_jobs_jserp-result_search-card\" data-tracking-control-name=\"public_jobs_jserp-result_search-card\" data-tracking-client-ingraph data-tracking-will-navigate>\\n          \\n          <span class=\"sr-only\">\\n              \\n        \\n        Frontend Engineer\\n      \\n      \\n          </span>\\n        </a>\\n\\n      \\n        \\n    <div class=\"search-entity-media\">\\n        \\n      <img class=\"artdeco-entity-image artdeco-entity-image--square-4\\n          \" data-delayed-url=\"https://media.licdn.com/dms/image/C4D0BAQEHnJZvQGzzTQ/company-logo_100_100/0/1674067114609/cabrioksa_logo?e=2147483647&amp;v=beta&amp;t=AlV6z9NktrNiXTkaAMtoba10RYbP7GQtrH7W3JSDciQ\" data-ghost-classes=\"artdeco-entity-image--ghost\" data-ghost-url=\"https://static.licdn.com/aero-v1/sc/h/9a9u41thxt325ucfh5z8ga4m8\" alt>\\n  \\n    </div>\\n  \\n\\n        <div class=\"base-search-card__info\">\\n          <h3 class=\"base-search-card__title\">\\n            \\n        Frontend Engineer\\n      \\n          </h3>\\n\\n            <h4 class=\"base-search-card__subtitle\">\\n              \\n          <a class=\"hidden-nested-link\" data-tracking-client-ingraph data-tracking-control-name=\"public_jobs_jserp-result_job-search-card-subtitle\" data-tracking-will-navigate href=\"https://sa.linkedin.com/company/cabriosa?trk=public_jobs_jserp-result_job-search-card-subtitle\">\\n            Cabrio\\n          </a>\\n      \\n            </h4>\\n\\n<!---->\\n            <div class=\"base-search-card__metadata\">\\n              \\n          <span class=\"job-search-card__location\">\\n            Egypt\\n          </span>\\n\\n        \\n    \\n    \\n    \\n    \\n\\n<!---->  \\n\\n          <time class=\"job-search-card__listdate\" datetime=\"2024-05-03\">\\n            \\n\\n    \\n    \\n    \\n    \\n    \\n    \\n    \\n    \\n    \\n    \\n    \\n    \\n    \\n    \\n    \\n    \\n\\n    \\n    \\n    \\n    \\n    \\n    \\n    \\n    \\n    \\n    \\n    \\n    \\n    \\n    \\n\\n      4 days ago\\n  \\n          </time>\\n\\n<!---->      \\n            </div>\\n        </div>\\n<!---->      \\n    \\n      </div>\\n  \\n  \\n  \\n  \\n      </li>\\n      <li>\\n        \\n    \\n\\n    \\n    \\n    \\n      <div class=\"base-card relative w-full hover:no-underline focus:no-underline base-card--link base-search-card base-search-card--link job-search-card\" data-entity-urn=\"urn:li:jobPosting:3891674091\" data-impression-id=\"jobs-search-result-8\" data-reference-id=\"F/ypxWWcHJY/FJUNyegRAw==\" data-tracking-id=\"cNZvZvae5iZpWBZpJa659w==\" data-column=\"1\" data-row=\"9\">\\n        \\n\\n        <a class=\"base-card__full-link absolute top-0 right-0 bottom-0 left-0 p-0 z-[2]\" href=\"https://eg.linkedin.com/jobs/view/frontend-developer-at-dsquares-3891674091?position=9&amp;pageNum=0&amp;refId=F%2FypxWWcHJY%2FFJUNyegRAw%3D%3D&amp;trackingId=cNZvZvae5iZpWBZpJa659w%3D%3D&amp;trk=public_jobs_jserp-result_search-card\" data-tracking-control-name=\"public_jobs_jserp-result_search-card\" data-tracking-client-ingraph data-tracking-will-navigate>\\n          \\n          <span class=\"sr-only\">\\n              \\n        \\n        Frontend Developer\\n      \\n      \\n          </span>\\n        </a>\\n\\n      \\n        \\n    <div class=\"search-entity-media\">\\n        \\n      <img class=\"artdeco-entity-image artdeco-entity-image--square-4\\n          \" data-delayed-url=\"https://media.licdn.com/dms/image/D4D0BAQGuxxiyNMjumg/company-logo_100_100/0/1699278004565/dsquares_logo?e=2147483647&amp;v=beta&amp;t=5yDlLZdfdsGks128UV53Mi-xLkCiL5gYOcl_hbgbdbM\" data-ghost-classes=\"artdeco-entity-image--ghost\" data-ghost-url=\"https://static.licdn.com/aero-v1/sc/h/9a9u41thxt325ucfh5z8ga4m8\" alt>\\n  \\n    </div>\\n  \\n\\n        <div class=\"base-search-card__info\">\\n          <h3 class=\"base-search-card__title\">\\n            \\n        Frontend Developer\\n      \\n          </h3>\\n\\n            <h4 class=\"base-search-card__subtitle\">\\n              \\n          <a class=\"hidden-nested-link\" data-tracking-client-ingraph data-tracking-control-name=\"public_jobs_jserp-result_job-search-card-subtitle\" data-tracking-will-navigate href=\"https://eg.linkedin.com/company/dsquares?trk=public_jobs_jserp-result_job-search-card-subtitle\">\\n            Dsquares\\n          </a>\\n      \\n            </h4>\\n\\n<!---->\\n            <div class=\"base-search-card__metadata\">\\n              \\n          <span class=\"job-search-card__location\">\\n            Cairo, Cairo, Egypt\\n          </span>\\n\\n        \\n    \\n    \\n    \\n    \\n\\n      <div class=\"job-posting-benefits text-sm\">\\n        <icon class=\"job-posting-benefits__icon\" data-delayed-url=\"https://static.licdn.com/aero-v1/sc/h/3p1v0uhy7uq0cm5zdvzp4eo18\" data-svg-class-name=\"job-posting-benefits__icon-svg\"></icon>\\n        <span class=\"job-posting-benefits__text\">\\n          Actively Hiring\\n<!---->        </span>\\n      </div>\\n  \\n\\n          <time class=\"job-search-card__listdate\" datetime=\"2024-03-17\">\\n            \\n\\n    \\n    \\n    \\n    \\n    \\n    \\n    \\n    \\n    \\n    \\n    \\n    \\n    \\n    \\n    \\n    \\n\\n    \\n    \\n    \\n    \\n    \\n    \\n    \\n    \\n    \\n    \\n    \\n    \\n    \\n    \\n\\n      1 month ago\\n  \\n          </time>\\n\\n<!---->      \\n            </div>\\n        </div>\\n<!---->      \\n    \\n      </div>\\n  \\n  \\n  \\n  \\n      </li>\\n      <li>\\n        \\n    \\n\\n    \\n    \\n    \\n      <div class=\"base-card relative w-full hover:no-underline focus:no-underline base-card--link base-search-card base-search-card--link job-search-card\" data-entity-urn=\"urn:li:jobPosting:3870144051\" data-impression-id=\"jobs-search-result-9\" data-reference-id=\"F/ypxWWcHJY/FJUNyegRAw==\" data-tracking-id=\"09lJK/bdc2IHjNCMf51Vig==\" data-column=\"1\" data-row=\"10\">\\n        \\n\\n        <a class=\"base-card__full-link absolute top-0 right-0 bottom-0 left-0 p-0 z-[2]\" href=\"https://eg.linkedin.com/jobs/view/front-office-agent-egyptians-only-at-kempinski-hotels-3870144051?position=10&amp;pageNum=0&amp;refId=F%2FypxWWcHJY%2FFJUNyegRAw%3D%3D&amp;trackingId=09lJK%2Fbdc2IHjNCMf51Vig%3D%3D&amp;trk=public_jobs_jserp-result_search-card\" data-tracking-control-name=\"public_jobs_jserp-result_search-card\" data-tracking-client-ingraph data-tracking-will-navigate>\\n          \\n          <span class=\"sr-only\">\\n              \\n        \\n        Front Office Agent - Egyptians Only\\n      \\n      \\n          </span>\\n        </a>\\n\\n      \\n        \\n    <div class=\"search-entity-media\">\\n        \\n      <img class=\"artdeco-entity-image artdeco-entity-image--square-4\\n          \" data-delayed-url=\"https://media.licdn.com/dms/image/C4D0BAQFUDEOF-ATylQ/company-logo_100_100/0/1649144169574/kempinski_hotels_logo?e=2147483647&amp;v=beta&amp;t=jXSoPCAQTE9xE2doLpJyvTbDH2tYzCgr-pk0KumbYks\" data-ghost-classes=\"artdeco-entity-image--ghost\" data-ghost-url=\"https://static.licdn.com/aero-v1/sc/h/9a9u41thxt325ucfh5z8ga4m8\" alt>\\n  \\n    </div>\\n  \\n\\n        <div class=\"base-search-card__info\">\\n          <h3 class=\"base-search-card__title\">\\n            \\n        Front Office Agent - Egyptians Only\\n      \\n          </h3>\\n\\n            <h4 class=\"base-search-card__subtitle\">\\n              \\n          <a class=\"hidden-nested-link\" data-tracking-client-ingraph data-tracking-control-name=\"public_jobs_jserp-result_job-search-card-subtitle\" data-tracking-will-navigate href=\"https://de.linkedin.com/company/kempinski-hotels?trk=public_jobs_jserp-result_job-search-card-subtitle\">\\n            Kempinski Hotels\\n          </a>\\n      \\n            </h4>\\n\\n<!---->\\n            <div class=\"base-search-card__metadata\">\\n              \\n          <span class=\"job-search-card__location\">\\n            Cairo, Cairo, Egypt\\n          </span>\\n\\n        \\n    \\n    \\n    \\n    \\n\\n      <div class=\"job-posting-benefits text-sm\">\\n        <icon class=\"job-posting-benefits__icon\" data-delayed-url=\"https://static.licdn.com/aero-v1/sc/h/3p1v0uhy7uq0cm5zdvzp4eo18\" data-svg-class-name=\"job-posting-benefits__icon-svg\"></icon>\\n        <span class=\"job-posting-benefits__text\">\\n          Actively Hiring\\n<!---->        </span>\\n      </div>\\n  \\n\\n          <time class=\"job-search-card__listdate\" datetime=\"2024-03-25\">\\n            \\n\\n    \\n    \\n    \\n    \\n    \\n    \\n    \\n    \\n    \\n    \\n    \\n    \\n    \\n    \\n    \\n    \\n\\n    \\n    \\n    \\n    \\n    \\n    \\n    \\n    \\n    \\n    \\n    \\n    \\n    \\n    \\n\\n      1 month ago\\n  \\n          </time>\\n\\n<!---->      \\n            </div>\\n        </div>\\n<!---->      \\n    \\n      </div>\\n  \\n  \\n  \\n  \\n      </li>\\n  '"
      ]
     },
     "execution_count": 119,
     "metadata": {},
     "output_type": "execute_result"
    }
   ],
   "source": [
    "response.text"
   ]
  },
  {
   "cell_type": "code",
   "execution_count": 120,
   "metadata": {},
   "outputs": [],
   "source": [
    "#Get the HTML, parse the response and find all list items(jobs postings)\n",
    "list_data = response.text\n",
    "list_soup = BeautifulSoup(list_data, \"html.parser\")\n",
    "page_jobs = list_soup.find_all(\"li\")"
   ]
  },
  {
   "cell_type": "code",
   "execution_count": 121,
   "metadata": {},
   "outputs": [],
   "source": [
    "# Extract the HTML content from the job search response, parse it, and find all job postings\n",
    "job_search_html = response.text\n",
    "job_search_soup = BeautifulSoup(job_search_html, \"html.parser\")\n",
    "job_postings = job_search_soup.find_all(\"li\")"
   ]
  },
  {
   "cell_type": "code",
   "execution_count": 122,
   "metadata": {},
   "outputs": [],
   "source": [
    "#Create an empty list to store the job postings\n",
    "id_list = []"
   ]
  },
  {
   "cell_type": "code",
   "execution_count": 123,
   "metadata": {},
   "outputs": [],
   "source": [
    "# Initialize an empty list to store the IDs of the job postings\n",
    "job_posting_ids = []"
   ]
  },
  {
   "cell_type": "code",
   "execution_count": 124,
   "metadata": {},
   "outputs": [
    {
     "name": "stdout",
     "output_type": "stream",
     "text": [
      "3912829462\n",
      "3891685472\n",
      "3879059525\n",
      "3888118287\n",
      "3849934900\n",
      "3907380177\n",
      "3834812789\n",
      "3917125987\n",
      "3891674091\n",
      "3870144051\n"
     ]
    }
   ],
   "source": [
    "#Itetrate through job postings to find job ids\n",
    "for job in page_jobs:\n",
    "    base_card_div = job.find(\"div\", {\"class\": \"base-card\"})\n",
    "    job_id = base_card_div.get(\"data-entity-urn\").split(\":\")[3]\n",
    "    print(job_id)\n",
    "    id_list.append(job_id)"
   ]
  },
  {
   "cell_type": "code",
   "execution_count": 125,
   "metadata": {},
   "outputs": [
    {
     "name": "stdout",
     "output_type": "stream",
     "text": [
      "3912829462\n",
      "3891685472\n",
      "3879059525\n",
      "3888118287\n",
      "3849934900\n",
      "3907380177\n",
      "3834812789\n",
      "3917125987\n",
      "3891674091\n",
      "3870144051\n"
     ]
    }
   ],
   "source": [
    "# Iterate through the job postings to extract job IDs\n",
    "for job_posting in job_postings:\n",
    "    base_card_div = job_posting.find(\"div\", {\"class\": \"base-card\"})\n",
    "    job_id = base_card_div.get(\"data-entity-urn\").split(\":\")[3]\n",
    "    print(job_id)\n",
    "    job_posting_ids.append(job_id)"
   ]
  },
  {
   "cell_type": "code",
   "execution_count": 126,
   "metadata": {},
   "outputs": [
    {
     "name": "stdout",
     "output_type": "stream",
     "text": [
      "200\n",
      "200\n",
      "200\n",
      "200\n",
      "200\n",
      "200\n",
      "200\n",
      "200\n",
      "200\n",
      "200\n"
     ]
    }
   ],
   "source": [
    "# Initialize an empty list to store job information\n",
    "job_list = []\n",
    "\n",
    "# Loop through the list of job IDs and get each URL\n",
    "for job_id in id_list:\n",
    "    # Construct the URL for each job using the job ID\n",
    "    job_url = f\"https://www.linkedin.com/jobs-guest/jobs/api/jobPosting/{job_id}\"\n",
    "    \n",
    "    # Send a GET request to the job URL and parse the reponse\n",
    "    job_response = requests.get(job_url)\n",
    "    print(job_response.status_code)\n",
    "    job_soup = BeautifulSoup(job_response.text, \"html.parser\")\n",
    "    \n",
    "     # Create a dictionary to store job details\n",
    "    job_post = {}\n",
    "    \n",
    "    # Try to extract and store the job title\n",
    "    try:\n",
    "        job_post[\"job_title\"] = job_soup.find(\"h2\", {\"class\":\"top-card-layout__title font-sans text-lg papabear:text-xl font-bold leading-open text-color-text mb-0 topcard__title\"}).text.strip()\n",
    "    except:\n",
    "        job_post[\"job_title\"] = None\n",
    "        \n",
    "    # Try to extract and store the company name\n",
    "    try:\n",
    "        job_post[\"company_name\"] = job_soup.find(\"a\", {\"class\": \"topcard__org-name-link topcard__flavor--black-link\"}).text.strip()\n",
    "    except:\n",
    "        job_post[\"company_name\"] = None\n",
    "        \n",
    "    # Try to extract and store the time posted\n",
    "    try:\n",
    "        job_post[\"time_posted\"] = job_soup.find(\"span\", {\"class\": \"posted-time-ago__text topcard__flavor--metadata\"}).text.strip()\n",
    "    except:\n",
    "        job_post[\"time_posted\"] = None\n",
    "        \n",
    "    # Try to extract and store the number of applicants\n",
    "    try:\n",
    "        job_post[\"num_applicants\"] = job_soup.find(\"span\", {\"class\": \"num-applicants__caption topcard__flavor--metadata topcard__flavor--bullet\"}).text.strip()\n",
    "    except:\n",
    "        job_post[\"num_applicants\"] = None\n",
    "    \n",
    "        \n",
    "    # Append the job details to the job_list\n",
    "    job_list.append(job_post)"
   ]
  },
  {
   "cell_type": "code",
   "execution_count": 127,
   "metadata": {},
   "outputs": [
    {
     "name": "stdout",
     "output_type": "stream",
     "text": [
      "200\n",
      "200\n",
      "200\n",
      "200\n",
      "200\n",
      "200\n",
      "200\n",
      "200\n",
      "200\n",
      "200\n"
     ]
    }
   ],
   "source": [
    "# Initialize an empty list to store job postings\n",
    "job_postings_list = []\n",
    "\n",
    "# Loop through the list of job IDs and retrieve each job's details\n",
    "for job_id in job_posting_ids:\n",
    "    # Construct the URL for each job using the job ID\n",
    "    job_url = f\"https://www.linkedin.com/jobs-guest/jobs/api/jobPosting/{job_id}\"\n",
    "    \n",
    "    # Send a GET request to the job URL and parse the response\n",
    "    job_response = requests.get(job_url)\n",
    "    print(job_response.status_code)\n",
    "    job_soup = BeautifulSoup(job_response.text, \"html.parser\")\n",
    "    \n",
    "    # Create a dictionary to store job details\n",
    "    job_details = {}\n",
    "    \n",
    "    # Try to extract and store the job title\n",
    "    try:\n",
    "        job_details[\"title\"] = job_soup.find(\"h2\", {\"class\":\"top-card-layout__title font-sans text-lg papabear:text-xl font-bold leading-open text-color-text mb-0 topcard__title\"}).text.strip()\n",
    "    except:\n",
    "        job_details[\"title\"] = None\n",
    "        \n",
    "    # Try to extract and store the company name\n",
    "    try:\n",
    "        job_details[\"company\"] = job_soup.find(\"a\", {\"class\": \"topcard__org-name-link topcard__flavor--black-link\"}).text.strip()\n",
    "    except:\n",
    "        job_details[\"company\"] = None\n",
    "        \n",
    "    # Try to extract and store the time posted\n",
    "    try:\n",
    "        job_details[\"posted_time\"] = job_soup.find(\"span\", {\"class\": \"posted-time-ago__text topcard__flavor--metadata\"}).text.strip()\n",
    "    except:\n",
    "        job_details[\"posted_time\"] = None\n",
    "        \n",
    "    # Try to extract and store the number of applicants\n",
    "    try:\n",
    "        job_details[\"applicants_count\"] = job_soup.find(\"span\", {\"class\": \"num-applicants__caption topcard__flavor--metadata topcard__flavor--bullet\"}).text.strip()\n",
    "    except:\n",
    "        job_details[\"applicants_count\"] = None\n",
    "    \n",
    "    # Append the job details to the job_postings_list\n",
    "    job_postings_list.append(job_details)"
   ]
  },
  {
   "cell_type": "code",
   "execution_count": 128,
   "metadata": {},
   "outputs": [
    {
     "data": {
      "text/plain": [
       "[{'title': 'Junior Frontend Developer',\n",
       "  'company': 'Vodafone',\n",
       "  'posted_time': '1 week ago',\n",
       "  'applicants_count': None},\n",
       " {'title': 'Front-end Developer',\n",
       "  'company': 'Sarmad',\n",
       "  'posted_time': '4 weeks ago',\n",
       "  'applicants_count': None},\n",
       " {'title': 'Frontend Developer - Jeddah',\n",
       "  'company': 'Lucidya | لوسيديا',\n",
       "  'posted_time': '2 weeks ago',\n",
       "  'applicants_count': None},\n",
       " {'title': 'Frontend Developer - Remotely',\n",
       "  'company': 'Lucidya | لوسيديا',\n",
       "  'posted_time': '2 weeks ago',\n",
       "  'applicants_count': None},\n",
       " {'title': 'Frontend Engineer',\n",
       "  'company': 'Bosta',\n",
       "  'posted_time': '1 month ago',\n",
       "  'applicants_count': None},\n",
       " {'title': 'Front-End Web Developer',\n",
       "  'company': 'Fabulous',\n",
       "  'posted_time': '1 month ago',\n",
       "  'applicants_count': None},\n",
       " {'title': 'Junior/Fresh-graduate SW Support Engineer',\n",
       "  'company': 'Bosta',\n",
       "  'posted_time': '2 months ago',\n",
       "  'applicants_count': None},\n",
       " {'title': 'Frontend Engineer',\n",
       "  'company': 'Cabrio',\n",
       "  'posted_time': '4 days ago',\n",
       "  'applicants_count': None},\n",
       " {'title': 'Frontend Developer',\n",
       "  'company': 'Dsquares',\n",
       "  'posted_time': '1 month ago',\n",
       "  'applicants_count': None},\n",
       " {'title': 'Front Office Agent - Egyptians Only',\n",
       "  'company': 'Kempinski Hotels',\n",
       "  'posted_time': '1 month ago',\n",
       "  'applicants_count': None}]"
      ]
     },
     "execution_count": 128,
     "metadata": {},
     "output_type": "execute_result"
    }
   ],
   "source": [
    "# Display the list of job postings with extracted details\n",
    "job_postings_list\n"
   ]
  },
  {
   "cell_type": "code",
   "execution_count": 129,
   "metadata": {},
   "outputs": [
    {
     "name": "stdout",
     "output_type": "stream",
     "text": [
      "[{'title': 'Junior Frontend Developer', 'company': 'Vodafone', 'posted_time': '1 week ago', 'applicants_count': None}, {'title': 'Front-end Developer', 'company': 'Sarmad', 'posted_time': '4 weeks ago', 'applicants_count': None}, {'title': 'Frontend Developer - Jeddah', 'company': 'Lucidya | لوسيديا', 'posted_time': '2 weeks ago', 'applicants_count': None}, {'title': 'Frontend Developer - Remotely', 'company': 'Lucidya | لوسيديا', 'posted_time': '2 weeks ago', 'applicants_count': None}, {'title': 'Frontend Engineer', 'company': 'Bosta', 'posted_time': '1 month ago', 'applicants_count': None}, {'title': 'Front-End Web Developer', 'company': 'Fabulous', 'posted_time': '1 month ago', 'applicants_count': None}, {'title': 'Junior/Fresh-graduate SW Support Engineer', 'company': 'Bosta', 'posted_time': '2 months ago', 'applicants_count': None}, {'title': 'Frontend Engineer', 'company': 'Cabrio', 'posted_time': '4 days ago', 'applicants_count': None}, {'title': 'Frontend Developer', 'company': 'Dsquares', 'posted_time': '1 month ago', 'applicants_count': None}, {'title': 'Front Office Agent - Egyptians Only', 'company': 'Kempinski Hotels', 'posted_time': '1 month ago', 'applicants_count': None}]\n"
     ]
    }
   ],
   "source": [
    "# Filter out job postings with missing job titles\n",
    "filtered_job_postings = [job for job in job_postings_list if job['title'] is not None]\n",
    "\n",
    "# Display the filtered job postings list\n",
    "print(filtered_job_postings)"
   ]
  },
  {
   "cell_type": "code",
   "execution_count": 130,
   "metadata": {},
   "outputs": [
    {
     "name": "stdout",
     "output_type": "stream",
     "text": [
      "[{'title': 'Junior Frontend Developer', 'company': 'Vodafone', 'posted_time': '1 week ago', 'applicants_count': 'Not specified'}, {'title': 'Front-end Developer', 'company': 'Sarmad', 'posted_time': '4 weeks ago', 'applicants_count': 'Not specified'}, {'title': 'Frontend Developer - Jeddah', 'company': 'Lucidya | لوسيديا', 'posted_time': '2 weeks ago', 'applicants_count': 'Not specified'}, {'title': 'Frontend Developer - Remotely', 'company': 'Lucidya | لوسيديا', 'posted_time': '2 weeks ago', 'applicants_count': 'Not specified'}, {'title': 'Frontend Engineer', 'company': 'Bosta', 'posted_time': '1 month ago', 'applicants_count': 'Not specified'}, {'title': 'Front-End Web Developer', 'company': 'Fabulous', 'posted_time': '1 month ago', 'applicants_count': 'Not specified'}, {'title': 'Junior/Fresh-graduate SW Support Engineer', 'company': 'Bosta', 'posted_time': '2 months ago', 'applicants_count': 'Not specified'}, {'title': 'Frontend Engineer', 'company': 'Cabrio', 'posted_time': '4 days ago', 'applicants_count': 'Not specified'}, {'title': 'Frontend Developer', 'company': 'Dsquares', 'posted_time': '1 month ago', 'applicants_count': 'Not specified'}, {'title': 'Front Office Agent - Egyptians Only', 'company': 'Kempinski Hotels', 'posted_time': '1 month ago', 'applicants_count': 'Not specified'}]\n"
     ]
    }
   ],
   "source": [
    "# Initialize a list to store the modified job postings\n",
    "modified_job_postings = []\n",
    "\n",
    "# Loop through filtered job postings, handle 'None' values, and filter out entries with missing job titles\n",
    "for job in filtered_job_postings:\n",
    "    if job['title'] is not None:\n",
    "        # Handle 'None' values for company name, time posted, and number of applicants\n",
    "        if job['company'] is None:\n",
    "            job['company'] = \"Not specified\"  # Replace 'None' with a user-friendly string\n",
    "        if job['posted_time'] is None:\n",
    "            job['posted_time'] = \"Not specified\"  # Replace 'None' with a user-friendly string\n",
    "        if job['applicants_count'] is None:\n",
    "            job['applicants_count'] = \"Not specified\"  # Replace 'None' with a user-friendly string\n",
    "        # Append the modified job posting to the modified_job_postings list\n",
    "        modified_job_postings.append(job)\n",
    "\n",
    "# Display the modified job postings list\n",
    "print(modified_job_postings)"
   ]
  },
  {
   "cell_type": "code",
   "execution_count": 131,
   "metadata": {},
   "outputs": [
    {
     "data": {
      "text/html": [
       "<div>\n",
       "<style scoped>\n",
       "    .dataframe tbody tr th:only-of-type {\n",
       "        vertical-align: middle;\n",
       "    }\n",
       "\n",
       "    .dataframe tbody tr th {\n",
       "        vertical-align: top;\n",
       "    }\n",
       "\n",
       "    .dataframe thead th {\n",
       "        text-align: right;\n",
       "    }\n",
       "</style>\n",
       "<table border=\"1\" class=\"dataframe\">\n",
       "  <thead>\n",
       "    <tr style=\"text-align: right;\">\n",
       "      <th></th>\n",
       "      <th>title</th>\n",
       "      <th>company</th>\n",
       "      <th>posted_time</th>\n",
       "      <th>applicants_count</th>\n",
       "    </tr>\n",
       "  </thead>\n",
       "  <tbody>\n",
       "    <tr>\n",
       "      <th>0</th>\n",
       "      <td>Junior Frontend Developer</td>\n",
       "      <td>Vodafone</td>\n",
       "      <td>1 week ago</td>\n",
       "      <td>Not specified</td>\n",
       "    </tr>\n",
       "    <tr>\n",
       "      <th>1</th>\n",
       "      <td>Front-end Developer</td>\n",
       "      <td>Sarmad</td>\n",
       "      <td>4 weeks ago</td>\n",
       "      <td>Not specified</td>\n",
       "    </tr>\n",
       "    <tr>\n",
       "      <th>2</th>\n",
       "      <td>Frontend Developer - Jeddah</td>\n",
       "      <td>Lucidya | لوسيديا</td>\n",
       "      <td>2 weeks ago</td>\n",
       "      <td>Not specified</td>\n",
       "    </tr>\n",
       "    <tr>\n",
       "      <th>3</th>\n",
       "      <td>Frontend Developer - Remotely</td>\n",
       "      <td>Lucidya | لوسيديا</td>\n",
       "      <td>2 weeks ago</td>\n",
       "      <td>Not specified</td>\n",
       "    </tr>\n",
       "    <tr>\n",
       "      <th>4</th>\n",
       "      <td>Frontend Engineer</td>\n",
       "      <td>Bosta</td>\n",
       "      <td>1 month ago</td>\n",
       "      <td>Not specified</td>\n",
       "    </tr>\n",
       "    <tr>\n",
       "      <th>5</th>\n",
       "      <td>Front-End Web Developer</td>\n",
       "      <td>Fabulous</td>\n",
       "      <td>1 month ago</td>\n",
       "      <td>Not specified</td>\n",
       "    </tr>\n",
       "    <tr>\n",
       "      <th>6</th>\n",
       "      <td>Junior/Fresh-graduate SW Support Engineer</td>\n",
       "      <td>Bosta</td>\n",
       "      <td>2 months ago</td>\n",
       "      <td>Not specified</td>\n",
       "    </tr>\n",
       "    <tr>\n",
       "      <th>7</th>\n",
       "      <td>Frontend Engineer</td>\n",
       "      <td>Cabrio</td>\n",
       "      <td>4 days ago</td>\n",
       "      <td>Not specified</td>\n",
       "    </tr>\n",
       "    <tr>\n",
       "      <th>8</th>\n",
       "      <td>Frontend Developer</td>\n",
       "      <td>Dsquares</td>\n",
       "      <td>1 month ago</td>\n",
       "      <td>Not specified</td>\n",
       "    </tr>\n",
       "    <tr>\n",
       "      <th>9</th>\n",
       "      <td>Front Office Agent - Egyptians Only</td>\n",
       "      <td>Kempinski Hotels</td>\n",
       "      <td>1 month ago</td>\n",
       "      <td>Not specified</td>\n",
       "    </tr>\n",
       "  </tbody>\n",
       "</table>\n",
       "</div>"
      ],
      "text/plain": [
       "                                       title            company   posted_time  \\\n",
       "0                  Junior Frontend Developer           Vodafone    1 week ago   \n",
       "1                        Front-end Developer             Sarmad   4 weeks ago   \n",
       "2                Frontend Developer - Jeddah  Lucidya | لوسيديا   2 weeks ago   \n",
       "3              Frontend Developer - Remotely  Lucidya | لوسيديا   2 weeks ago   \n",
       "4                          Frontend Engineer              Bosta   1 month ago   \n",
       "5                    Front-End Web Developer           Fabulous   1 month ago   \n",
       "6  Junior/Fresh-graduate SW Support Engineer              Bosta  2 months ago   \n",
       "7                          Frontend Engineer             Cabrio    4 days ago   \n",
       "8                         Frontend Developer           Dsquares   1 month ago   \n",
       "9        Front Office Agent - Egyptians Only   Kempinski Hotels   1 month ago   \n",
       "\n",
       "  applicants_count  \n",
       "0    Not specified  \n",
       "1    Not specified  \n",
       "2    Not specified  \n",
       "3    Not specified  \n",
       "4    Not specified  \n",
       "5    Not specified  \n",
       "6    Not specified  \n",
       "7    Not specified  \n",
       "8    Not specified  \n",
       "9    Not specified  "
      ]
     },
     "execution_count": 131,
     "metadata": {},
     "output_type": "execute_result"
    }
   ],
   "source": [
    "# Create a pandas DataFrame using the list of modified job postings\n",
    "jobs_dataframe = pd.DataFrame(modified_job_postings)\n",
    "\n",
    "# Display the DataFrame containing the job postings\n",
    "jobs_dataframe"
   ]
  },
  {
   "cell_type": "code",
   "execution_count": 132,
   "metadata": {},
   "outputs": [],
   "source": [
    "# Save the job postings data to a CSV file\n",
    "jobs_dataframe.to_csv('linkedin_job_postings.csv', index=False)"
   ]
  },
  {
   "cell_type": "code",
   "execution_count": 133,
   "metadata": {},
   "outputs": [],
   "source": [
    "import tkinter as tk\n",
    "import pandas as pd\n",
    "import os\n",
    "\n",
    "def scrape_job_postings():\n",
    "    # Get the job title and location entered by the user\n",
    "    job_title = job_title_entry.get()\n",
    "    location = location_entry.get()\n",
    "    \n",
    "    # Add your web scraping logic here using the job title and location\n",
    "    # For demonstration purposes, create a DataFrame with dummy data\n",
    "    job_data = {\n",
    "        'Job Title': ['Software Engineer', 'Data Analyst', 'Product Manager'],\n",
    "        'Company': ['Company A', 'Company B', 'Company C'],\n",
    "        'Location': ['Location A', 'Location B', 'Location C']\n",
    "    }\n",
    "    jobs_df = pd.DataFrame(job_data)\n",
    "    \n",
    "    # Save the job data to a CSV file\n",
    "    csv_file_path = 'linkedin_job_postings.csv'\n",
    "    jobs_df.to_csv(csv_file_path, index=False)\n",
    "    \n",
    "    # Open the extracted CSV file\n",
    "    os.system(csv_file_path)\n",
    "\n",
    "# Create the main GUI window\n",
    "root = tk.Tk()\n",
    "root.title(\"Job Search\")\n",
    "\n",
    "# Create labels and entry fields for job title and location\n",
    "job_title_label = tk.Label(root, text=\"Job Title:\")\n",
    "job_title_label.grid(row=0, column=0, padx=10, pady=5)\n",
    "job_title_entry = tk.Entry(root)\n",
    "job_title_entry.grid(row=0, column=1, padx=10, pady=5)\n",
    "\n",
    "location_label = tk.Label(root, text=\"Location:\")\n",
    "location_label.grid(row=1, column=0, padx=10, pady=5)\n",
    "location_entry = tk.Entry(root)\n",
    "location_entry.grid(row=1, column=1, padx=10, pady=5)\n",
    "\n",
    "# Create a button to trigger the scraping process\n",
    "scrape_button = tk.Button(root, text=\"Scrape Job Postings\", command=scrape_job_postings)\n",
    "scrape_button.grid(row=2, columnspan=2, padx=10, pady=10)\n",
    "\n",
    "# Run the GUI event loop\n",
    "root.mainloop()\n"
   ]
  },
  {
   "cell_type": "code",
   "execution_count": null,
   "metadata": {},
   "outputs": [],
   "source": []
  },
  {
   "cell_type": "code",
   "execution_count": null,
   "metadata": {},
   "outputs": [],
   "source": []
  },
  {
   "cell_type": "code",
   "execution_count": null,
   "metadata": {},
   "outputs": [],
   "source": []
  },
  {
   "cell_type": "code",
   "execution_count": null,
   "metadata": {},
   "outputs": [],
   "source": []
  },
  {
   "cell_type": "code",
   "execution_count": null,
   "metadata": {},
   "outputs": [],
   "source": []
  }
 ],
 "metadata": {
  "kernelspec": {
   "display_name": "Python 3",
   "language": "python",
   "name": "python3"
  },
  "language_info": {
   "codemirror_mode": {
    "name": "ipython",
    "version": 3
   },
   "file_extension": ".py",
   "mimetype": "text/x-python",
   "name": "python",
   "nbconvert_exporter": "python",
   "pygments_lexer": "ipython3",
   "version": "3.11.9"
  }
 },
 "nbformat": 4,
 "nbformat_minor": 2
}
